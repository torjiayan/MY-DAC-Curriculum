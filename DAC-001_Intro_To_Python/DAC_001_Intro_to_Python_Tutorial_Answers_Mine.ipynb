{
 "cells": [
  {
   "cell_type": "markdown",
   "metadata": {},
   "source": [
    "question 1"
   ]
  },
  {
   "cell_type": "code",
   "execution_count": 2,
   "metadata": {},
   "outputs": [
    {
     "name": "stdout",
     "output_type": "stream",
     "text": [
      "['apple', 'orange', 'banana']\n"
     ]
    }
   ],
   "source": [
    "fruits=[\"apple\", \"orange\", \"banana\"]\n",
    "print(fruits)"
   ]
  },
  {
   "cell_type": "code",
   "execution_count": 4,
   "metadata": {},
   "outputs": [
    {
     "name": "stdout",
     "output_type": "stream",
     "text": [
      "['apple', 'orange', 'banana', 'tomato', 'tomato']\n"
     ]
    }
   ],
   "source": [
    "fruits.append(\"tomato\")\n",
    "print(fruits)"
   ]
  },
  {
   "cell_type": "code",
   "execution_count": 19,
   "metadata": {},
   "outputs": [
    {
     "name": "stdout",
     "output_type": "stream",
     "text": [
      "['orange', 'banana', 'tomato', 'tomato']\n"
     ]
    }
   ],
   "source": [
    "del fruits[0]\n",
    "print(fruits)"
   ]
  },
  {
   "cell_type": "markdown",
   "metadata": {},
   "source": [
    "question 2"
   ]
  },
  {
   "cell_type": "code",
   "execution_count": 1,
   "metadata": {},
   "outputs": [
    {
     "name": "stdout",
     "output_type": "stream",
     "text": [
      "('physics', 'chemistry', 'english', 'math', 'biology')\n"
     ]
    }
   ],
   "source": [
    "subjects = (\"physics\", \"chemistry\", \"english\", \"math\", \"biology\")\n",
    "print(subjects)"
   ]
  },
  {
   "cell_type": "code",
   "execution_count": 4,
   "metadata": {},
   "outputs": [
    {
     "name": "stdout",
     "output_type": "stream",
     "text": [
      "('physics', 'chemistry', 'english', 'math', 'biology', 'literature')\n"
     ]
    }
   ],
   "source": [
    "subjects_list = list(subjects)\n",
    "subjects_list.append(\"literature\")\n",
    "subjects=tuple(subjects_list)\n",
    "print(subjects)"
   ]
  },
  {
   "cell_type": "code",
   "execution_count": 5,
   "metadata": {},
   "outputs": [
    {
     "name": "stdout",
     "output_type": "stream",
     "text": [
      "6\n"
     ]
    }
   ],
   "source": [
    "print(len(subjects))"
   ]
  },
  {
   "cell_type": "markdown",
   "metadata": {},
   "source": [
    "question 3"
   ]
  },
  {
   "cell_type": "code",
   "execution_count": 6,
   "metadata": {},
   "outputs": [
    {
     "name": "stdout",
     "output_type": "stream",
     "text": [
      "[10, 6, 7, 8, 9, 3]\n"
     ]
    }
   ],
   "source": [
    "students_id = [10, 6, 7, 8, 9, 3]\n",
    "print(students_id)"
   ]
  },
  {
   "cell_type": "code",
   "execution_count": 9,
   "metadata": {},
   "outputs": [
    {
     "name": "stdout",
     "output_type": "stream",
     "text": [
      "[3, 6, 7, 8, 9, 10]\n",
      "[10, 9, 8, 7, 6, 3]\n"
     ]
    }
   ],
   "source": [
    "sorted_liststudents_id = sorted(students_id) # Use the sorted() function to sort the list\n",
    "print(sorted_liststudents_id) # Output the sorted list\n",
    "\n",
    "sorted_students_id = sorted(students_id, reverse=True)\n",
    "print(sorted_students_id)  # Output the sorted list"
   ]
  },
  {
   "cell_type": "code",
   "execution_count": 10,
   "metadata": {},
   "outputs": [
    {
     "name": "stdout",
     "output_type": "stream",
     "text": [
      "[]\n"
     ]
    }
   ],
   "source": [
    "sorted_students_id.clear()\n",
    "print(sorted_students_id)  # Output the now empty list"
   ]
  },
  {
   "cell_type": "markdown",
   "metadata": {},
   "source": [
    "question 4"
   ]
  },
  {
   "cell_type": "code",
   "execution_count": 11,
   "metadata": {},
   "outputs": [
    {
     "name": "stdout",
     "output_type": "stream",
     "text": [
      "[15, 12, 9, 6, 3]\n"
     ]
    }
   ],
   "source": [
    "desc_list= list(range(15,0,-3))\n",
    "print(desc_list)"
   ]
  },
  {
   "cell_type": "markdown",
   "metadata": {},
   "source": [
    "question 5"
   ]
  },
  {
   "cell_type": "code",
   "execution_count": 23,
   "metadata": {},
   "outputs": [
    {
     "name": "stdout",
     "output_type": "stream",
     "text": [
      "[2, 4, 6, 8, 10, 12, 14, 16, 18, 20, 22, 24, 26, 28]\n"
     ]
    }
   ],
   "source": [
    "asc_list = [2 * i for i in range(1, 15)]  # This generates multiples of 2, with 14 elements\n",
    "print(asc_list)  # Output the generated list\n",
    "asc_list = []"
   ]
  },
  {
   "cell_type": "markdown",
   "metadata": {},
   "source": [
    "question 6"
   ]
  },
  {
   "cell_type": "code",
   "execution_count": 26,
   "metadata": {},
   "outputs": [
    {
     "name": "stdout",
     "output_type": "stream",
     "text": [
      "Combined List: [15, 12, 9, 6, 3, 2, 4, 6, 8, 10, 12, 14, 16, 18, 20, 22, 24, 26, 28]\n"
     ]
    }
   ],
   "source": [
    "desc_list=[15, 12, 9, 6, 3]\n",
    "asc_list=[2, 4, 6, 8, 10, 12, 14, 16, 18, 20, 22, 24, 26, 28]\n",
    "combined_list = desc_list + asc_list\n",
    "print(\"Combined List:\",combined_list)"
   ]
  },
  {
   "cell_type": "code",
   "execution_count": 27,
   "metadata": {},
   "outputs": [
    {
     "name": "stdout",
     "output_type": "stream",
     "text": [
      "Even Numbers: [12, 6, 2, 4, 6, 8, 10, 12, 14, 16, 18, 20, 22, 24, 26, 28]\n",
      "Odd Numbers: [15, 9, 3]\n"
     ]
    }
   ],
   "source": [
    "# Initialize empty lists for even and odd numbers\n",
    "even_numbers = []\n",
    "odd_numbers = []\n",
    "\n",
    "# Separate even and odd numbers using a for loop\n",
    "for num in combined_list:\n",
    "    if num % 2 == 0:\n",
    "        even_numbers.append(num)  # Add to even_numbers if the number is even\n",
    "    else:\n",
    "        odd_numbers.append(num)    # Add to odd_numbers if the number is odd\n",
    "\n",
    "# Print the results\n",
    "print(\"Even Numbers:\", even_numbers)\n",
    "print(\"Odd Numbers:\", odd_numbers)"
   ]
  },
  {
   "cell_type": "markdown",
   "metadata": {},
   "source": [
    "question 7"
   ]
  },
  {
   "cell_type": "code",
   "execution_count": 28,
   "metadata": {},
   "outputs": [
    {
     "name": "stdout",
     "output_type": "stream",
     "text": [
      "Area: 78.53981633974483\n",
      "Circumference: 31.41592653589793\n"
     ]
    }
   ],
   "source": [
    "import math\n",
    "\n",
    "# Define the function to calculate the area and circumference\n",
    "def circle_properties(radius):\n",
    "    area = math.pi * radius ** 2\n",
    "    circumference = 2 * math.pi * radius\n",
    "    return area, circumference\n",
    "\n",
    "# Example usage\n",
    "radius = 5\n",
    "area, circumference = circle_properties(radius)\n",
    "print(f\"Area: {area}\")\n",
    "print(f\"Circumference: {circumference}\")"
   ]
  },
  {
   "cell_type": "markdown",
   "metadata": {},
   "source": [
    "question 8"
   ]
  },
  {
   "cell_type": "code",
   "execution_count": 29,
   "metadata": {},
   "outputs": [
    {
     "name": "stdout",
     "output_type": "stream",
     "text": [
      "Question: Is it worthwhile to join DAC?\n",
      "Magic 8-Ball says: My sources say no\n"
     ]
    }
   ],
   "source": [
    "import random  # Importing the random module to use for generating random responses\n",
    "\n",
    "# Function to simulate a magic 8-ball response\n",
    "def magic_8_ball():\n",
    "    # List of possible responses from the magic 8-ball\n",
    "    responses = [\n",
    "        \"Yes\", \"No\", \"It is certain\", \"Without a doubt\",\n",
    "        \"Reply hazy, try again\", \"Don't count on it\",\n",
    "        \"My sources say no\", \"Outlook not so good\", \"Very doubtful\",\n",
    "        \"You may rely on it\"\n",
    "    ]\n",
    "    # Return a random response from the list\n",
    "    return random.choice(responses)\n",
    "\n",
    "# Time for you to ask it a question!\n",
    "question = \"Is it worthwhile to join DAC?\"  # Define a question\n",
    "answer = magic_8_ball()  # Get a random response from the magic 8-ball\n",
    "print(f\"Question: {question}\")  # Print the question\n",
    "print(f\"Magic 8-Ball says: {answer}\")  # Print the answer\n"
   ]
  },
  {
   "cell_type": "markdown",
   "metadata": {},
   "source": [
    "question 9"
   ]
  },
  {
   "cell_type": "code",
   "execution_count": 34,
   "metadata": {},
   "outputs": [
    {
     "name": "stdout",
     "output_type": "stream",
     "text": [
      "{'Alice': '85', 'Bob:': '90', 'Charlie:': '78'}\n"
     ]
    }
   ],
   "source": [
    "student_grades = {\n",
    "    \"Alice\": \"85\",\n",
    "    \"Bob:\": \"90\",\n",
    "    \"Charlie:\": \"78\"\n",
    "}\n",
    "\n",
    "print(student_grades)"
   ]
  },
  {
   "cell_type": "code",
   "execution_count": 36,
   "metadata": {},
   "outputs": [
    {
     "name": "stdout",
     "output_type": "stream",
     "text": [
      "David has no grade\n"
     ]
    }
   ],
   "source": [
    "David = student_grades.get(\"David\")\n",
    "if David is None:\n",
    "    print(\"David has no grade\")\n",
    "else:\n",
    "    print(\"Email Address is:\", grade)"
   ]
  },
  {
   "cell_type": "code",
   "execution_count": 38,
   "metadata": {},
   "outputs": [
    {
     "data": {
      "text/plain": [
       "{'Alice': '85', 'Bob:': '90', 'Charlie:': '78', 'David': '92'}"
      ]
     },
     "execution_count": 38,
     "metadata": {},
     "output_type": "execute_result"
    }
   ],
   "source": [
    "# Adding a new student\n",
    "student_grades[\"David\"] = \"92\"\n",
    "\n",
    "# Display the updated dictionary\n",
    "student_grades"
   ]
  },
  {
   "cell_type": "code",
   "execution_count": 39,
   "metadata": {},
   "outputs": [
    {
     "data": {
      "text/plain": [
       "{'Alice': 88, 'Bob:': '90', 'Charlie:': '78', 'David': '92'}"
      ]
     },
     "execution_count": 39,
     "metadata": {},
     "output_type": "execute_result"
    }
   ],
   "source": [
    "student_grades[\"Alice\"] = 88\n",
    "\n",
    "# Display the updated dictionary\n",
    "student_grades"
   ]
  },
  {
   "cell_type": "markdown",
   "metadata": {},
   "source": [
    "question 10"
   ]
  },
  {
   "cell_type": "code",
   "execution_count": 41,
   "metadata": {},
   "outputs": [
    {
     "data": {
      "text/plain": [
       "{'apple': 3, 'banana': 2, 'orange': 1}"
      ]
     },
     "execution_count": 41,
     "metadata": {},
     "output_type": "execute_result"
    }
   ],
   "source": [
    "# Given list of fruits\n",
    "fruits_list = [\"apple\", \"banana\", \"apple\", \"orange\", \"banana\", \"apple\"]\n",
    "\n",
    "# Create an empty dictionary to store the counts\n",
    "fruit_count = {}\n",
    "\n",
    "# Count occurrences of each fruit\n",
    "for fruit in fruits_list:\n",
    "    if fruit in fruit_count:\n",
    "        fruit_count[fruit] += 1  # Increment count if fruit already exists\n",
    "    else:\n",
    "        fruit_count[fruit] = 1  # Initialize count if fruit does not exist\n",
    "\n",
    "# Display the dictionary with fruit counts\n",
    "fruit_count"
   ]
  }
 ],
 "metadata": {
  "kernelspec": {
   "display_name": "base",
   "language": "python",
   "name": "python3"
  },
  "language_info": {
   "codemirror_mode": {
    "name": "ipython",
    "version": 3
   },
   "file_extension": ".py",
   "mimetype": "text/x-python",
   "name": "python",
   "nbconvert_exporter": "python",
   "pygments_lexer": "ipython3",
   "version": "3.11.5"
  }
 },
 "nbformat": 4,
 "nbformat_minor": 2
}
